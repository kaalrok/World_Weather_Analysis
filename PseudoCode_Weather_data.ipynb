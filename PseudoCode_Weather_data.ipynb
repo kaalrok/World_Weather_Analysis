{
 "cells": [
  {
   "cell_type": "code",
   "execution_count": null,
   "id": "03b9c6e5-2f40-4f7e-9ee3-7d097f554cc6",
   "metadata": {},
   "outputs": [],
   "source": [
    "# Create and Clone a git repository\n",
    "# Overview of the project\n",
    "# Review the Geographic Coordinate System"
   ]
  },
  {
   "cell_type": "code",
   "execution_count": null,
   "id": "e8b76b57-a375-48b6-9111-f40509fbf092",
   "metadata": {},
   "outputs": [],
   "source": [
    "# Insure your API keys remain secure by adding config.py to the gitignore file in your repository\n",
    "\n",
    "# Import dependencies\n",
    "\n",
    "\n",
    "# add citipy library\n",
    "\n",
    "\n",
    "# add requests module\n",
    "\n",
    "\n",
    "# Import the API key from config.py file\n",
    "\n",
    "\n",
    "# import datetime to recast api date a datetime format\n",
    "\n",
    "\n",
    "# Generate Random Latitude and Longitude\n",
    "\n",
    "\n",
    "# Create a set of lat and long combinations"
   ]
  }
 ],
 "metadata": {
  "kernelspec": {
   "display_name": "Python 3",
   "language": "python",
   "name": "python3"
  },
  "language_info": {
   "codemirror_mode": {
    "name": "ipython",
    "version": 3
   },
   "file_extension": ".py",
   "mimetype": "text/x-python",
   "name": "python",
   "nbconvert_exporter": "python",
   "pygments_lexer": "ipython3",
   "version": "3.8.8"
  }
 },
 "nbformat": 4,
 "nbformat_minor": 5
}
