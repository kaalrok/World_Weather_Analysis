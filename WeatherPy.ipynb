{
 "cells": [
  {
   "cell_type": "code",
   "execution_count": 5,
   "id": "2e5c8422",
   "metadata": {},
   "outputs": [],
   "source": [
    "# Dependencies\n",
    "import pandas as pd\n",
    "import matplotlib.pyplot as plt\n",
    "import numpy as np\n",
    "import requests\n",
    "from config import api_key"
   ]
  },
  {
   "cell_type": "code",
   "execution_count": 6,
   "id": "2b72cc87",
   "metadata": {},
   "outputs": [
    {
     "data": {
      "text/plain": [
       "<zip at 0x2d13b9ec9c8>"
      ]
     },
     "execution_count": 6,
     "metadata": {},
     "output_type": "execute_result"
    }
   ],
   "source": [
    "# Create a set of random latitude and longitude combinations\n",
    "lats = np.random.uniform(low=-90.000, high=90.000, size=15)\n",
    "lngs = np.random.uniform(low=-180.000, high=180.000, size=15)\n",
    "lat_lngs = zip(lats, lngs)\n",
    "lat_lngs"
   ]
  },
  {
   "cell_type": "code",
   "execution_count": 7,
   "id": "2c07d8fe",
   "metadata": {},
   "outputs": [
    {
     "name": "stdout",
     "output_type": "stream",
     "text": [
      "[(-35.45042697894938, 144.02672324156237), (62.3214295241429, -90.47430850759402), (17.12664411395643, 164.6718181913991), (-35.54815210715148, -2.894449920677488), (-53.97764679533279, -15.628235001137256), (-24.354980594255608, -159.5675073176659), (4.303365775763169, 148.86531474909043), (-14.420014067198508, 99.13067078391106), (-52.003880292372614, 170.72990776755034), (-0.20806190488421805, 23.839824522035798), (-54.84697354186324, 134.45455347696674), (-6.621543147582415, 37.38791208579681), (-2.3032534403923677, -159.85260727491013), (41.92267393160947, 68.14065984447137), (65.6998736176555, 137.38828443178886)]\n"
     ]
    }
   ],
   "source": [
    "# Add the latitudes and longitudes to a list.\n",
    "coordinates = list(lat_lngs)\n",
    "print(coordinates)"
   ]
  },
  {
   "cell_type": "code",
   "execution_count": 8,
   "id": "61b395f0",
   "metadata": {},
   "outputs": [
    {
     "data": {
      "text/plain": [
       "[(-35.45042697894938, 144.02672324156237),\n",
       " (62.3214295241429, -90.47430850759402),\n",
       " (17.12664411395643, 164.6718181913991),\n",
       " (-35.54815210715148, -2.894449920677488),\n",
       " (-53.97764679533279, -15.628235001137256),\n",
       " (-24.354980594255608, -159.5675073176659),\n",
       " (4.303365775763169, 148.86531474909043),\n",
       " (-14.420014067198508, 99.13067078391106),\n",
       " (-52.003880292372614, 170.72990776755034),\n",
       " (-0.20806190488421805, 23.839824522035798),\n",
       " (-54.84697354186324, 134.45455347696674),\n",
       " (-6.621543147582415, 37.38791208579681),\n",
       " (-2.3032534403923677, -159.85260727491013),\n",
       " (41.92267393160947, 68.14065984447137),\n",
       " (65.6998736176555, 137.38828443178886)]"
      ]
     },
     "execution_count": 8,
     "metadata": {},
     "output_type": "execute_result"
    }
   ],
   "source": [
    "coordinates"
   ]
  },
  {
   "cell_type": "code",
   "execution_count": null,
   "id": "5155bf8e",
   "metadata": {},
   "outputs": [],
   "source": [
    "# Save config information\n"
   ]
  }
 ],
 "metadata": {
  "kernelspec": {
   "display_name": "PythonData",
   "language": "python",
   "name": "pythondata"
  },
  "language_info": {
   "codemirror_mode": {
    "name": "ipython",
    "version": 3
   },
   "file_extension": ".py",
   "mimetype": "text/x-python",
   "name": "python",
   "nbconvert_exporter": "python",
   "pygments_lexer": "ipython3",
   "version": "3.7.11"
  }
 },
 "nbformat": 4,
 "nbformat_minor": 5
}
