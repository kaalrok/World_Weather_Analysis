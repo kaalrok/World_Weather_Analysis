{
 "cells": [
  {
   "cell_type": "code",
   "execution_count": 1,
   "id": "94ae9cca",
   "metadata": {},
   "outputs": [],
   "source": [
    "# Dependencies\n",
    "import json\n",
    "import requests\n",
    "from config import api_key"
   ]
  },
  {
   "cell_type": "code",
   "execution_count": 2,
   "id": "5f4521ac",
   "metadata": {},
   "outputs": [
    {
     "data": {
      "text/plain": [
       "'https://api.openweathermap.org/data/2.5/weather?appid=571c97dace50d9f1963c1d5251c00c3c&q=Landstuhl&units=metric'"
      ]
     },
     "execution_count": 2,
     "metadata": {},
     "output_type": "execute_result"
    }
   ],
   "source": [
    "# Save config information\n",
    "url = \"https://api.openweathermap.org/data/2.5/weather?\"\n",
    "city = \"Landstuhl\"\n",
    "units = \"metric\"\n",
    "\n",
    "# Build query URL\n",
    "query_url = f\"{url}appid={api_key}&q={city}&units={units}\"\n",
    "query_url"
   ]
  },
  {
   "cell_type": "code",
   "execution_count": 3,
   "id": "5a21a530",
   "metadata": {},
   "outputs": [
    {
     "name": "stdout",
     "output_type": "stream",
     "text": [
      "{'coord': {'lon': 7.5667, 'lat': 49.4167}, 'weather': [{'id': 800, 'main': 'Clear', 'description': 'clear sky', 'icon': '01d'}], 'base': 'stations', 'main': {'temp': -4.13, 'feels_like': -7.35, 'temp_min': -6.08, 'temp_max': -0.6, 'pressure': 1024, 'humidity': 100}, 'visibility': 10000, 'wind': {'speed': 2.06, 'deg': 80}, 'clouds': {'all': 1}, 'dt': 1640072501, 'sys': {'type': 1, 'id': 1802, 'country': 'DE', 'sunrise': 1640071383, 'sunset': 1640100756}, 'timezone': 3600, 'id': 2881477, 'name': 'Landstuhl', 'cod': 200}\n"
     ]
    }
   ],
   "source": [
    "# Get weather data\n",
    "weather_response = requests.get(query_url)\n",
    "weather_json = weather_response.json()\n",
    "\n",
    "print(weather_json)"
   ]
  },
  {
   "cell_type": "code",
   "execution_count": 4,
   "id": "80970355",
   "metadata": {},
   "outputs": [
    {
     "name": "stdout",
     "output_type": "stream",
     "text": [
      "The temperature in Landstuhl is -4.13 C.\n"
     ]
    }
   ],
   "source": [
    "# Get temperature from JSON response\n",
    "temperature = weather_json[\"main\"][\"temp\"]\n",
    "\n",
    "#Report temperature\n",
    "print(f\"The temperature in {city} is {temperature} C.\")"
   ]
  },
  {
   "cell_type": "code",
   "execution_count": 5,
   "id": "cf92aea2",
   "metadata": {},
   "outputs": [
    {
     "name": "stdout",
     "output_type": "stream",
     "text": [
      "The temperature in Landstuhl is -4.13C or 24.57F.\n"
     ]
    }
   ],
   "source": [
    "# Use list of units\n",
    "units = [\"metric\", \"imperial\"]\n",
    "\n",
    "# Set up list to hold two different temperatures\n",
    "temperatures = []\n",
    "\n",
    "# Loop throughout the list of units and append them to temperatures list\n",
    "for unit in units:\n",
    "    # Build query URL based on current element in units\n",
    "    query_url = url + \"appid=\" + api_key + \"&q=\" + city + \"&units=\" + unit\n",
    "    \n",
    "    # Get weather data\n",
    "    weather_response = requests.get(query_url)\n",
    "    weather_json = weather_response.json()\n",
    "    \n",
    "    # Get temperature form JSON response\n",
    "    temperature = weather_json[\"main\"][\"temp\"]\n",
    "    \n",
    "    temperatures.append(temperature)\n",
    "    \n",
    "print(f\"The temperature in {city} is {temperatures[0]}C or {temperatures[1]}F.\")\n",
    "    "
   ]
  },
  {
   "cell_type": "code",
   "execution_count": null,
   "id": "19e5f7a1",
   "metadata": {},
   "outputs": [],
   "source": []
  }
 ],
 "metadata": {
  "kernelspec": {
   "display_name": "PythonData",
   "language": "python",
   "name": "pythondata"
  },
  "language_info": {
   "codemirror_mode": {
    "name": "ipython",
    "version": 3
   },
   "file_extension": ".py",
   "mimetype": "text/x-python",
   "name": "python",
   "nbconvert_exporter": "python",
   "pygments_lexer": "ipython3",
   "version": "3.7.11"
  }
 },
 "nbformat": 4,
 "nbformat_minor": 5
}
