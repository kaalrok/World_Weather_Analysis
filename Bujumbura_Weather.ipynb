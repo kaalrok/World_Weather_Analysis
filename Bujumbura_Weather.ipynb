{
 "cells": [
  {
   "cell_type": "code",
   "execution_count": 1,
   "id": "94ae9cca",
   "metadata": {},
   "outputs": [
    {
     "ename": "NameError",
     "evalue": "name 'AIzaSyBpxPzgA9b1r8YKsVbHTnjWU' is not defined",
     "output_type": "error",
     "traceback": [
      "\u001b[1;31m---------------------------------------------------------------------------\u001b[0m",
      "\u001b[1;31mNameError\u001b[0m                                 Traceback (most recent call last)",
      "\u001b[1;32m~\\AppData\\Local\\Temp/ipykernel_24680/869005278.py\u001b[0m in \u001b[0;36m<module>\u001b[1;34m\u001b[0m\n\u001b[0;32m      2\u001b[0m \u001b[1;32mimport\u001b[0m \u001b[0mjson\u001b[0m\u001b[1;33m\u001b[0m\u001b[1;33m\u001b[0m\u001b[0m\n\u001b[0;32m      3\u001b[0m \u001b[1;32mimport\u001b[0m \u001b[0mrequests\u001b[0m\u001b[1;33m\u001b[0m\u001b[1;33m\u001b[0m\u001b[0m\n\u001b[1;32m----> 4\u001b[1;33m \u001b[1;32mfrom\u001b[0m \u001b[0mconfig\u001b[0m \u001b[1;32mimport\u001b[0m \u001b[0mapi_key\u001b[0m\u001b[1;33m\u001b[0m\u001b[1;33m\u001b[0m\u001b[0m\n\u001b[0m",
      "\u001b[1;32m~\\Assignments\\World_Weather_Analysis\\config.py\u001b[0m in \u001b[0;36m<module>\u001b[1;34m\u001b[0m\n\u001b[0;32m      2\u001b[0m \u001b[1;33m\u001b[0m\u001b[0m\n\u001b[0;32m      3\u001b[0m \u001b[1;31m# Google API Key\u001b[0m\u001b[1;33m\u001b[0m\u001b[1;33m\u001b[0m\u001b[1;33m\u001b[0m\u001b[0m\n\u001b[1;32m----> 4\u001b[1;33m \u001b[0mg_key\u001b[0m \u001b[1;33m=\u001b[0m \u001b[0mAIzaSyBpxPzgA9b1r8YKsVbHTnjWU\u001b[0m\u001b[1;33m-\u001b[0m\u001b[0mUV60V5ADY\u001b[0m\u001b[1;33m\u001b[0m\u001b[1;33m\u001b[0m\u001b[0m\n\u001b[0m",
      "\u001b[1;31mNameError\u001b[0m: name 'AIzaSyBpxPzgA9b1r8YKsVbHTnjWU' is not defined"
     ]
    }
   ],
   "source": [
    "# Dependencies\n",
    "import json\n",
    "import requests\n",
    "from config import api_key"
   ]
  },
  {
   "cell_type": "code",
   "execution_count": null,
   "id": "5f4521ac",
   "metadata": {},
   "outputs": [],
   "source": [
    "# Save config information\n",
    "url = \"https://api.openweathermap.org/data/2.5/weather?\"\n",
    "city = \"portland\"\n",
    "units = \"metric\"\n",
    "\n",
    "# Build query URL\n",
    "query_url = f\"{url}appid={api_key}&q={city}&units={units}\"\n",
    "query_url"
   ]
  },
  {
   "cell_type": "code",
   "execution_count": null,
   "id": "5a21a530",
   "metadata": {},
   "outputs": [],
   "source": [
    "# Get weather data\n",
    "weather_response = requests.get(query_url)\n",
    "weather_json = weather_response.json()\n",
    "\n",
    "print(weather_json)"
   ]
  },
  {
   "cell_type": "code",
   "execution_count": null,
   "id": "80970355",
   "metadata": {},
   "outputs": [],
   "source": [
    "# Get temperature from JSON response\n",
    "temperature = weather_json[\"main\"][\"temp\"]\n",
    "\n",
    "#Report temperature\n",
    "print(f\"The temperature in {city} is {temperature} C.\")"
   ]
  },
  {
   "cell_type": "code",
   "execution_count": null,
   "id": "cf92aea2",
   "metadata": {},
   "outputs": [],
   "source": [
    "# Use list of units\n",
    "units = [\"metric\", \"imperial\"]\n",
    "\n",
    "# Set up list to hold two different temperatures\n",
    "temperatures = []\n",
    "\n",
    "# Loop throughout the list of units and append them to temperatures list\n",
    "for unit in units:\n",
    "    # Build query URL based on current element in units\n",
    "    query_url = url + \"appid=\" + api_key + \"&q=\" + city + \"&units=\" + unit\n",
    "    \n",
    "    # Get weather data\n",
    "    weather_response = requests.get(query_url)\n",
    "    weather_json = weather_response.json()\n",
    "    \n",
    "    # Get temperature form JSON response\n",
    "    temperature = weather_json[\"main\"][\"temp\"]\n",
    "    \n",
    "    temperatures.append(temperature)\n",
    "    \n",
    "print(f\"The temperature in {city} is {temperatures[0]}C or {temperatures[1]}F.\")\n",
    "    "
   ]
  },
  {
   "cell_type": "code",
   "execution_count": null,
   "id": "19e5f7a1",
   "metadata": {},
   "outputs": [],
   "source": []
  }
 ],
 "metadata": {
  "kernelspec": {
   "display_name": "PythonData",
   "language": "python",
   "name": "pythondata"
  },
  "language_info": {
   "codemirror_mode": {
    "name": "ipython",
    "version": 3
   },
   "file_extension": ".py",
   "mimetype": "text/x-python",
   "name": "python",
   "nbconvert_exporter": "python",
   "pygments_lexer": "ipython3",
   "version": "3.7.11"
  }
 },
 "nbformat": 4,
 "nbformat_minor": 5
}
