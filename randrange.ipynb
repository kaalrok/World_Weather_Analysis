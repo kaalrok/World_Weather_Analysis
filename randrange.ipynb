{
 "cells": [
  {
   "cell_type": "code",
   "execution_count": 1,
   "id": "c6eca228",
   "metadata": {},
   "outputs": [],
   "source": [
    "# Dependencies\n",
    "import random\n",
    "import numpy as np\n",
    "import timeit"
   ]
  },
  {
   "cell_type": "code",
   "execution_count": null,
   "id": "e10c85a4",
   "metadata": {},
   "outputs": [],
   "source": [
    "random.randrange(-90, 90, step=1)"
   ]
  },
  {
   "cell_type": "code",
   "execution_count": null,
   "id": "0de110c8",
   "metadata": {},
   "outputs": [],
   "source": [
    "random.randrange(-90, 90, step=3)"
   ]
  },
  {
   "cell_type": "code",
   "execution_count": null,
   "id": "29619140",
   "metadata": {},
   "outputs": [],
   "source": [
    "random.uniform(-90, 90)"
   ]
  },
  {
   "cell_type": "code",
   "execution_count": null,
   "id": "4b962403",
   "metadata": {},
   "outputs": [],
   "source": [
    "np.random.uniform(-90.000, 90.000)"
   ]
  },
  {
   "cell_type": "code",
   "execution_count": null,
   "id": "cb60d249",
   "metadata": {},
   "outputs": [],
   "source": [
    "np.random.uniform(low=-90, high=90)"
   ]
  },
  {
   "cell_type": "code",
   "execution_count": 4,
   "id": "ebf5cbae",
   "metadata": {},
   "outputs": [
    {
     "data": {
      "text/plain": [
       "array([ 44.92894428, -19.43162123, -20.85505131, -81.95059053,\n",
       "         7.8241509 , -89.49890058, -85.13559444, -76.73596749,\n",
       "        49.41670883,  34.69905176,  56.6958682 , -80.64437556,\n",
       "        33.5311233 ,  43.32937746,  48.43059043,  -6.32188115,\n",
       "       -18.50154476, -75.68710602,  26.28678652,  24.55543305,\n",
       "       -37.46142742, -79.84070901, -60.32398072, -84.44065477,\n",
       "        60.14420932,  48.5326415 ,  50.28854832,  55.53218138,\n",
       "       -56.24611029,  68.34720599,  41.13825655,  82.51486774,\n",
       "       -14.21099191,  44.07644686,  70.50881113,  83.94080247,\n",
       "       -60.58723834, -55.27195526,  26.0127072 ,  87.37602784,\n",
       "       -68.52968458, -62.52350623,  33.33220276, -16.08822655,\n",
       "       -71.34047458, -22.53403896,   0.51727721, -73.78230029,\n",
       "       -44.38516773, -42.54663384])"
      ]
     },
     "execution_count": 4,
     "metadata": {},
     "output_type": "execute_result"
    }
   ],
   "source": [
    "np.random.uniform(-90.000, 90.000, size=50)"
   ]
  },
  {
   "cell_type": "code",
   "execution_count": 3,
   "id": "df7afd12",
   "metadata": {},
   "outputs": [
    {
     "name": "stdout",
     "output_type": "stream",
     "text": [
      "11.6 µs ± 139 ns per loop (mean ± std. dev. of 7 runs, 100000 loops each)\n"
     ]
    }
   ],
   "source": [
    "%timeit np.random.uniform(-90.000, 90.000, size=1500)"
   ]
  },
  {
   "cell_type": "code",
   "execution_count": null,
   "id": "2f5e230f",
   "metadata": {},
   "outputs": [],
   "source": []
  }
 ],
 "metadata": {
  "kernelspec": {
   "display_name": "PythonData",
   "language": "python",
   "name": "pythondata"
  },
  "language_info": {
   "codemirror_mode": {
    "name": "ipython",
    "version": 3
   },
   "file_extension": ".py",
   "mimetype": "text/x-python",
   "name": "python",
   "nbconvert_exporter": "python",
   "pygments_lexer": "ipython3",
   "version": "3.7.11"
  }
 },
 "nbformat": 4,
 "nbformat_minor": 5
}
