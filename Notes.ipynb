{
 "cells": [
  {
   "cell_type": "code",
   "execution_count": null,
   "id": "6ebb81d9",
   "metadata": {},
   "outputs": [],
   "source": [
    "# save config information\n",
    "url = \"http://api.openweathermap.org/data/2.5/weather?\"\n",
    "city = \"London\"\n",
    "units = \"metric\""
   ]
  },
  {
   "cell_type": "code",
   "execution_count": null,
   "id": "3e469982",
   "metadata": {},
   "outputs": [],
   "source": [
    "# Build query URL and request your results\n",
    "city_url = f\"{url}appid={api_key}&q={city}&units={units}\"\n",
    "city_weather = requests.get(city_url)\n",
    "results = city_weather.json()\n",
    "\n",
    "print(results)"
   ]
  },
  {
   "cell_type": "code",
   "execution_count": null,
   "id": "4885e1cd",
   "metadata": {},
   "outputs": [],
   "source": [
    "lat = results[\"coord\"][\"lat\"]\n",
    "lng = results[\"coord\"][\"lon\"]\n",
    "temp = results[\"main\"][\"temp\"]\n",
    "max_temp = results[\"main\"][\"temp_max\"]"
   ]
  },
  {
   "cell_type": "code",
   "execution_count": null,
   "id": "d84942c2",
   "metadata": {},
   "outputs": [],
   "source": [
    "description = results[\"weather\"][0][\"description\"]"
   ]
  },
  {
   "cell_type": "code",
   "execution_count": null,
   "id": "a0d81e68",
   "metadata": {},
   "outputs": [],
   "source": [
    "date = results[\"dt\"]\n",
    "datetime.utcfromtimestamp(date).strftime('%Y-%m-%d %H:%M:%S')"
   ]
  }
 ],
 "metadata": {
  "kernelspec": {
   "display_name": "PythonData",
   "language": "python",
   "name": "pythondata"
  },
  "language_info": {
   "codemirror_mode": {
    "name": "ipython",
    "version": 3
   },
   "file_extension": ".py",
   "mimetype": "text/x-python",
   "name": "python",
   "nbconvert_exporter": "python",
   "pygments_lexer": "ipython3",
   "version": "3.7.11"
  }
 },
 "nbformat": 4,
 "nbformat_minor": 5
}
